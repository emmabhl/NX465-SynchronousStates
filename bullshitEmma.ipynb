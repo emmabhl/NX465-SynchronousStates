{
 "cells": [
  {
   "cell_type": "code",
   "execution_count": 1,
   "metadata": {},
   "outputs": [
    {
     "ename": "NameError",
     "evalue": "name 'b2' is not defined",
     "output_type": "error",
     "traceback": [
      "\u001b[0;31m---------------------------------------------------------------------------\u001b[0m",
      "\u001b[0;31mNameError\u001b[0m                                 Traceback (most recent call last)",
      "Cell \u001b[0;32mIn[1], line 2\u001b[0m\n\u001b[1;32m      1\u001b[0m \u001b[39m# Define the parameter\u001b[39;00m\n\u001b[0;32m----> 2\u001b[0m LIF\u001b[39m.\u001b[39mV_REST \u001b[39m=\u001b[39m \u001b[39m15\u001b[39m\u001b[39m*\u001b[39mb2\u001b[39m.\u001b[39mmV\n\u001b[1;32m      3\u001b[0m LIF\u001b[39m.\u001b[39mV_RESET \u001b[39m=\u001b[39m \u001b[39m-\u001b[39m\u001b[39m50\u001b[39m\u001b[39m*\u001b[39mb2\u001b[39m.\u001b[39mmV\n\u001b[1;32m      4\u001b[0m LIF\u001b[39m.\u001b[39mFIRING_THRESHOLD \u001b[39m=\u001b[39m \u001b[39m0\u001b[39m\u001b[39m*\u001b[39mb2\u001b[39m.\u001b[39mmV\n",
      "\u001b[0;31mNameError\u001b[0m: name 'b2' is not defined"
     ]
    }
   ],
   "source": [
    "# Define the parameter\n",
    "LIF.V_REST = 15*b2.mV\n",
    "LIF.V_RESET = -50*b2.mV\n",
    "LIF.FIRING_THRESHOLD = 0*b2.mV\n",
    "LIF.MEMBRANE_RESISTANCE = 50. * b2.ohm\n",
    "LIF.MEMBRANE_TIME_SCALE = 10. * b2.ms\n",
    "ABSOLUTE_REFRACTORY_PERIOD = 0 * b2.ms ####### not sure we have to change this parameter (initially 2.0 * b2.ms) \n",
    "beta = 10e5 #s^-1 -> have to precise the factor beta for the instantaneous firing rate\n",
    "\n",
    "LIF.print_default_parameters()\n",
    "\n",
    "# Create oscillating external current\n",
    "Tf = 100 #ms\n",
    "unit_time = 1*b2.ms\n",
    "I0 = 0.5*b2.mA\n",
    "omega = 100*b2.Hz\n",
    "freq = omega/(2*np.pi)\n",
    "f_LIF = input_factory.get_sinusoidal_current(0, Tf, unit_time=unit_time, amplitude=I0, frequency=freq, direct_current=I0, append_zero=True)\n",
    "\n",
    "f_LIF = f_LIF.values[:, 0] / b2.mA\n",
    "plt.plot(np.linspace(0, Tf+1, Tf+2), f_LIF)\n",
    "plt.xlabel('Time (ms)')\n",
    "plt.ylabel('Current (mA)')\n",
    "plt.show()"
   ]
  },
  {
   "cell_type": "code",
   "execution_count": null,
   "metadata": {},
   "outputs": [],
   "source": [
    "b2.start_scope()\n",
    "\n",
    "# Define all the parameters\n",
    "input_current = oscillating_current()\n",
    "N=100\n",
    "stimulation_time=100*b2.ms\n",
    "tau_m=10*b2.ms\n",
    "v0=-50*b2.mV\n",
    "eta=0*b2.mV\n",
    "v_rest=15*b2.mV\n",
    "R=50*b2.ohm\n",
    "#beta=10e5*b2.Hz\n",
    "\n",
    "# Define the differential equation \n",
    "eqs = \"\"\"\n",
    "dv/dt = ( -(v-v_rest) + R * input_current(t) ) / tau_m : volt\n",
    "\"\"\" # add (unless refractory)\n",
    "\n",
    "# Create the neuron group\n",
    "neurons = b2.NeuronGroup(N, model=eqs, threshold='v>eta', reset='v=v0', method='linear') #or method='euler' 'exact\n",
    "\n",
    "# Initialize the membrane potential at t=0 (uniformly distributed between v0 and eta)\n",
    "neurons.v = 'rand()*(eta-v0)+v0'\n",
    "\n",
    "# Monitor the membrane potential and firing times of neurons\n",
    "potentials = b2.StateMonitor(neurons, 'v', record=0)\n",
    "spikes = b2.SpikeMonitor(neurons)\n",
    "\n",
    "# Run the simulation\n",
    "b2.run(stimulation_time)\n",
    "\n",
    "# Plot the results\n",
    "plt.plot(spikes.t/b2.ms, spikes.i, '.k')\n",
    "plt.xlabel('Time (ms)')\n",
    "plt.ylabel('Neuron index')\n",
    "plt.show()\n",
    "\n",
    "plt.plot(potentials.t/b2.ms, np.squeeze(potentials.v))\n",
    "plt.xlabel('Time (ms)')\n",
    "plt.ylabel('v')\n",
    "plt.show()\n"
   ]
  },
  {
   "cell_type": "code",
   "execution_count": null,
   "metadata": {},
   "outputs": [],
   "source": [
    "def network_activity(spikes : list, N : int = N, dt : b2.ms = dt):\n",
    "    \"\"\"compute the network activity given the spikes of each neuron\n",
    "\n",
    "    Args:\n",
    "        spikes (list): the spikes of each neuron\n",
    "        N (int, optional): the number of neurons. Defaults to N.\n",
    "        dt (b2.ms, optional): the dt of the simulation. Defaults to dt.\n",
    "\n",
    "    Returns:\n",
    "        b2.TimedArray: the network activity at each timestep (starting from 0ms to Tf)\n",
    "    \"\"\"\n",
    "    network_activity = []\n",
    "    for k in range(int(Tf / dt) + 1):\n",
    "        network_activity.append(sum([spikes[neuron](k*dt) for neuron in range(N)]))\n",
    "    return b2.TimedArray(network_activity, dt=dt)"
   ]
  },
  {
   "cell_type": "code",
   "execution_count": null,
   "metadata": {},
   "outputs": [],
   "source": [
    "# Plot the low-pass filtered activity of the population, using a time bin of τA = 1ms\n",
    "tau_A = 1*b2.ms\n",
    "low_pass_filtered_activity = []\n",
    "for neuron in range(N):\n",
    "    low_pass_filtered_activity.append(np.convolve(spikes[neuron].values, np.ones(int(tau_A/dt))/int(tau_A/dt), mode='same'))\n",
    "low_pass_filtered_activity = np.array(low_pass_filtered_activity)\n",
    "plt.plot(np.arange(len(low_pass_filtered_activity[0]))*dt/b2.ms, low_pass_filtered_activity[0], label='Low-pass filtered activity of the first neuron')\n",
    "plt.title('Low-pass filtered activity of the first neuron')\n",
    "plt.xlabel('Time (ms)')\n",
    "plt.ylabel('Low-pass filtered activity')\n",
    "plt.legend()\n",
    "plt.show()"
   ]
  },
  {
   "cell_type": "code",
   "execution_count": null,
   "metadata": {},
   "outputs": [],
   "source": [
    "def compute_potentials0(v_t0 : float, I_ext : b2.TimedArray, Tf : b2.ms, dt : b2.ms, v_rest : b2.mV = v_rest, v_reset : b2.mV = v_reset, R : b2.ohm = R, tau_m : b2.ms = tau_m):\n",
    "    \"\"\"compute the evolution of the potential for a neuron given an external current and compute the spikes\n",
    "\n",
    "    Args:\n",
    "        v_t0 (b2.mV): initial potential of the neuron\n",
    "        I_ext (b2.TimedArray): external current applied to the neuron\n",
    "        Tf (b2.ms): final time of the simulation\n",
    "        dt (b2.ms): time interval between two timesteps\n",
    "        v_rest (b2.mV, optional): the resting potential of the neuron. Defaults to v_rest.\n",
    "        v_reset (b2.mV, optional): the reset potential of the neuron after a spike. Defaults to v_reset.\n",
    "        R (b2.ohm, optional): the resistance of the neuron. Defaults to R.\n",
    "        tau_m (b2.ms, optional): the membrane time constant of the neuron. Defaults to tau_m.\n",
    "\n",
    "    Returns:\n",
    "        list, list: the potential of the neuron at each timestep (tk) and the spiking activity of the neuron at each step (k)\n",
    "    \"\"\"\n",
    "    potentials, spikes = [v_t0], [0]\n",
    "    v = v_t0    \n",
    "    for k in range(int(Tf / dt)):\n",
    "        v = v + dt * (v_rest - v + R * I_ext(k*dt)) / tau_m  #take the current I_ext at previous timestep (that's why k start at 0)\n",
    "        spikes.append(is_spike(v, dt))\n",
    "        if spikes[-1]:\n",
    "            v = v_reset\n",
    "        potentials.append(v)\n",
    "    return potentials, spikes"
   ]
  },
  {
   "cell_type": "code",
   "execution_count": null,
   "metadata": {},
   "outputs": [],
   "source": [
    "a = [1, 2, 3, 4, 5]*b2.mV\n",
    "pot = [a.copy()]\n",
    "for i in range(3):\n",
    "    for j in range(5):\n",
    "        a[j] = a[j] + (i+1)*b2.mV\n",
    "    pot.append(a.copy())\n",
    "pot = np.array(pot)\n",
    "print(pot)"
   ]
  }
 ],
 "metadata": {
  "kernelspec": {
   "display_name": "ND",
   "language": "python",
   "name": "python3"
  },
  "language_info": {
   "codemirror_mode": {
    "name": "ipython",
    "version": 3
   },
   "file_extension": ".py",
   "mimetype": "text/x-python",
   "name": "python",
   "nbconvert_exporter": "python",
   "pygments_lexer": "ipython3",
   "version": "3.11.3"
  },
  "orig_nbformat": 4
 },
 "nbformat": 4,
 "nbformat_minor": 2
}
