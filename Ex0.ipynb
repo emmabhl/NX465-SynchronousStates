{
 "cells": [
  {
   "cell_type": "code",
   "execution_count": 3,
   "metadata": {},
   "outputs": [],
   "source": [
    "# start with importing the libraries we need\n",
    "%matplotlib inline\n",
    "import numpy as np\n",
    "import brian2 as b2\n",
    "import matplotlib.pyplot as plt\n",
    "from neurodynex3.leaky_integrate_and_fire import LIF\n",
    "from neurodynex3.tools import input_factory, plot_tools"
   ]
  },
  {
   "cell_type": "code",
   "execution_count": null,
   "metadata": {},
   "outputs": [],
   "source": [
    "#LIF.getting_started()"
   ]
  },
  {
   "cell_type": "code",
   "execution_count": 4,
   "metadata": {},
   "outputs": [
    {
     "name": "stdout",
     "output_type": "stream",
     "text": [
      "Resting potential: 0.015\n",
      "Reset voltage: -0.05\n",
      "Firing threshold: 0.0\n",
      "Membrane resistance: 50.0\n",
      "Membrane time-scale: 0.01\n",
      "Absolute refractory period: 0.002\n"
     ]
    }
   ],
   "source": [
    "# Define the parameter\n",
    "LIF.V_REST = 15*b2.mV\n",
    "LIF.V_RESET = -50*b2.mV\n",
    "LIF.FIRING_THRESHOLD = 0*b2.mV\n",
    "LIF.MEMBRANE_RESISTANCE = 50. * b2.ohm\n",
    "LIF.MEMBRANE_TIME_SCALE = 10. * b2.ms\n",
    "ABSOLUTE_REFRACTORY_PERIOD = 0. * b2.ms ####### not sure we have to change this parameter (initially 2.0 * b2.ms) \n",
    "beta = 10e5 #s^-1 -> have to precise the factor beta for the instantaneous firing rate\n",
    "\n",
    "LIF.print_default_parameters()"
   ]
  },
  {
   "attachments": {},
   "cell_type": "markdown",
   "metadata": {},
   "source": [
    "1. Consider N = 100 non-interacting neurons, with initial voltages $v_i(t = 0)$ uniformly distributed at random between $v_0$ and $η$ (i.e. $v_i(0) ∼ U([v_0,η])$), and submitted to an oscillating external input $I_{ext}(t) = I_0(1 + sin(ωt))$, with $I_0 = 0.5 mA$, $ω = 10^2 s^{−1}(= 0.1 ms^{−1})$. <br>\n",
    "• Compute the membrane potentials $vi(t)$ and firing times of the neurons, for $t ≤ T_f = 100 ms$. <br>\n",
    "• Plot the voltage $v_i(t)$ of the first neuron, along with the external input $RI_{ext}(t)$."
   ]
  },
  {
   "cell_type": "code",
   "execution_count": null,
   "metadata": {},
   "outputs": [],
   "source": [
    "N = 100\n",
    "vi_0 = np.random.uniform(v0, eta, N)\n",
    "I0 = 0.5e-3 #A\n",
    "omega = 10e2 #s-1\n",
    "t = \n",
    "Iext = I0 * (1 + np.sin(omega * np.arange(0, 1, 1e-3))"
   ]
  }
 ],
 "metadata": {
  "kernelspec": {
   "display_name": "ND",
   "language": "python",
   "name": "python3"
  },
  "language_info": {
   "codemirror_mode": {
    "name": "ipython",
    "version": 3
   },
   "file_extension": ".py",
   "mimetype": "text/x-python",
   "name": "python",
   "nbconvert_exporter": "python",
   "pygments_lexer": "ipython3",
   "version": "3.11.3"
  },
  "orig_nbformat": 4
 },
 "nbformat": 4,
 "nbformat_minor": 2
}
